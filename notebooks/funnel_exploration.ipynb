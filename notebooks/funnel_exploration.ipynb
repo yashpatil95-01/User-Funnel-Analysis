{
 "cells": [
  {
   "cell_type": "markdown",
   "metadata": {},
   "source": [
    "# User Funnel Analysis - Exploratory Notebook\n",
    "\n",
    "This notebook provides an interactive environment for exploring user funnel data and testing different analysis approaches."
   ]
  },
  {
   "cell_type": "code",
   "execution_count": null,
   "metadata": {},
   "outputs": [],
   "source": [
    "import sys\n",
    "sys.path.append('../src')\n",
    "\n",
    "import pandas as pd\n",
    "import numpy as np\n",
    "import plotly.express as px\n",
    "import plotly.graph_objects as go\n",
    "from funnel_analyzer import FunnelAnalyzer\n",
    "\n",
    "# Display settings\n",
    "pd.set_option('display.max_columns', None)\n",
    "pd.set_option('display.width', None)"
   ]
  },
  {
   "cell_type": "markdown",
   "metadata": {},
   "source": [
    "## 1. Load and Explore Data"
   ]
  },
  {
   "cell_type": "code",
   "execution_count": null,
   "metadata": {},
   "outputs": [],
   "source": [
    "# Initialize analyzer\n",
    "analyzer = FunnelAnalyzer()\n",
    "\n",
    "# Load your data here\n",
    "# analyzer.load_data('../data/your_funnel_data.csv')\n",
    "\n",
    "# For demonstration, create sample data with 10k users\n",
    "def create_sample_data():\n",
    "    np.random.seed(42)\n",
    "    users = range(1, 10001)  # 10,000 users\n",
    "    events = []\n",
    "    sources = ['organic', 'paid', 'social', 'email', 'direct']\n",
    "    devices = ['desktop', 'mobile', 'tablet']\n",
    "    \n",
    "    for user in users:\n",
    "        source = np.random.choice(sources)\n",
    "        device = np.random.choice(devices)\n",
    "        start_date = pd.Timestamp('2024-01-01') + pd.Timedelta(days=np.random.randint(0, 90))\n",
    "        \n",
    "        events.append({\n",
    "            'user_id': user,\n",
    "            'event': 'page_view',\n",
    "            'timestamp': start_date,\n",
    "            'source': source,\n",
    "            'device': device\n",
    "        })\n",
    "        \n",
    "        if np.random.random() < 0.65:\n",
    "            events.append({\n",
    "                'user_id': user,\n",
    "                'event': 'signup',\n",
    "                'timestamp': events[-1]['timestamp'] + pd.Timedelta(minutes=np.random.randint(1, 120)),\n",
    "                'source': source,\n",
    "                'device': device\n",
    "            })\n",
    "            \n",
    "            if np.random.random() < 0.35:\n",
    "                events.append({\n",
    "                    'user_id': user,\n",
    "                    'event': 'first_purchase',\n",
    "                    'timestamp': events[-1]['timestamp'] + pd.Timedelta(hours=np.random.randint(1, 72)),\n",
    "                    'source': source,\n",
    "                    'device': device\n",
    "                })\n",
    "                \n",
    "                if np.random.random() < 0.30:\n",
    "                    events.append({\n",
    "                        'user_id': user,\n",
    "                        'event': 'repeat_purchase',\n",
    "                        'timestamp': events[-1]['timestamp'] + pd.Timedelta(days=np.random.randint(1, 21)),\n",
    "                        'source': source,\n",
    "                        'device': device\n",
    "                    })\n",
    "    \n",
    "    return pd.DataFrame(events)\n",
    "\n",
    "# Load sample data\n",
    "analyzer.data = create_sample_data()\n",
    "print(f\"Sample data created: {len(analyzer.data)} events from 10,000 users\")\n",
    "print(f\"Data shape: {analyzer.data.shape}\")\n",
    "analyzer.data.head()"
   ]
  },
  {
   "cell_type": "markdown",
   "metadata": {},
   "source": [
    "## 2. Data Preprocessing"
   ]
  },
  {
   "cell_type": "code",
   "execution_count": null,
   "metadata": {},
   "outputs": [],
   "source": [
    "# Preprocess the data\n",
    "analyzer.preprocess_data()\n",
    "\n",
    "# Explore the data structure\n",
    "print(\"Data Info:\")\n",
    "print(analyzer.data.info())\n",
    "print(\"\\nEvent Distribution:\")\n",
    "print(analyzer.data['event'].value_counts())\n",
    "print(\"\\nSource Distribution:\")\n",
    "print(analyzer.data['source'].value_counts())\n",
    "print(\"\\nDevice Distribution:\")\n",
    "print(analyzer.data['device'].value_counts())"
   ]
  },
  {
   "cell_type": "markdown",
   "metadata": {},
   "source": [
    "## 3. Funnel Analysis"
   ]
  },
  {
   "cell_type": "code",
   "execution_count": null,
   "metadata": {},
   "outputs": [],
   "source": [
    "# Define funnel steps\n",
    "funnel_steps = ['page_view', 'signup', 'first_purchase', 'repeat_purchase']\n",
    "\n",
    "# Create funnel analysis\n",
    "funnel_data = analyzer.create_funnel_analysis(funnel_steps)\n",
    "print(\"Funnel Analysis Results:\")\n",
    "print(funnel_data)"
   ]
  },
  {
   "cell_type": "markdown",
   "metadata": {},
   "source": [
    "## 4. Visualizations"
   ]
  },
  {
   "cell_type": "code",
   "execution_count": null,
   "metadata": {},
   "outputs": [],
   "source": [
    "# Create funnel chart\n",
    "funnel_chart = analyzer.plot_funnel_chart(\"10K User Conversion Funnel\")\n",
    "funnel_chart.show()"
   ]
  },
  {
   "cell_type": "code",
   "execution_count": null,
   "metadata": {},
   "outputs": [],
   "source": [
    "# Create conversion rate charts\n",
    "conversion_chart = analyzer.plot_conversion_rates()\n",
    "conversion_chart.show()"
   ]
  },
  {
   "cell_type": "markdown",
   "metadata": {},
   "source": [
    "## 5. Advanced Analysis"
   ]
  },
  {
   "cell_type": "code",
   "execution_count": null,
   "metadata": {},
   "outputs": [],
   "source": [
    "# Time-based analysis\n",
    "analyzer.data['date'] = analyzer.data['timestamp'].dt.date\n",
    "daily_events = analyzer.data.groupby(['date', 'event']).size().unstack(fill_value=0)\n",
    "\n",
    "# Plot daily event trends\n",
    "fig = px.line(daily_events.reset_index(), x='date', y=daily_events.columns,\n",
    "              title='Daily Event Trends (10K Users)')\n",
    "fig.show()"
   ]
  },
  {
   "cell_type": "code",
   "execution_count": null,
   "metadata": {},
   "outputs": [],
   "source": [
    "# User journey analysis\n",
    "user_journeys = analyzer.data.groupby('user_id')['event'].apply(list).reset_index()\n",
    "user_journeys['journey_length'] = user_journeys['event'].apply(len)\n",
    "\n",
    "print(\"Journey Length Distribution:\")\n",
    "print(user_journeys['journey_length'].value_counts().sort_index())\n",
    "\n",
    "# Plot journey length distribution\n",
    "fig = px.histogram(user_journeys, x='journey_length', \n",
    "                   title='User Journey Length Distribution (10K Users)',\n",
    "                   nbins=10)\n",
    "fig.show()"
   ]
  },
  {
   "cell_type": "code",
   "execution_count": null,
   "metadata": {},
   "outputs": [],
   "source": [
    "# Source performance analysis\n",
    "source_funnel = analyzer.data.groupby(['source', 'event']).size().unstack(fill_value=0)\n",
    "source_funnel['conversion_rate'] = (source_funnel['first_purchase'] / source_funnel['page_view'] * 100).round(2)\n",
    "\n",
    "print(\"Conversion Rate by Source:\")\n",
    "print(source_funnel[['page_view', 'signup', 'first_purchase', 'conversion_rate']].sort_values('conversion_rate', ascending=False))\n",
    "\n",
    "# Plot source performance\n",
    "fig = px.bar(source_funnel.reset_index(), x='source', y='conversion_rate',\n",
    "             title='Conversion Rate by Traffic Source')\n",
    "fig.show()"
   ]
  },
  {
   "cell_type": "code",
   "execution_count": null,
   "metadata": {},
   "outputs": [],
   "source": [
    "# Device performance analysis\n",
    "device_funnel = analyzer.data.groupby(['device', 'event']).size().unstack(fill_value=0)\n",
    "device_funnel['conversion_rate'] = (device_funnel['first_purchase'] / device_funnel['page_view'] * 100).round(2)\n",
    "\n",
    "print(\"Conversion Rate by Device:\")\n",
    "print(device_funnel[['page_view', 'signup', 'first_purchase', 'conversion_rate']].sort_values('conversion_rate', ascending=False))\n",
    "\n",
    "# Plot device performance\n",
    "fig = px.bar(device_funnel.reset_index(), x='device', y='conversion_rate',\n",
    "             title='Conversion Rate by Device Type')\n",
    "fig.show()"
   ]
  }
 ],
 "metadata": {
  "kernelspec": {
   "display_name": "Python 3",
   "language": "python",
   "name": "python3"
  },
  "language_info": {
   "codemirror_mode": {
    "name": "ipython",
    "version": 3
   },
   "file_extension": ".py",
   "mimetype": "text/x-python",
   "name": "python",
   "nbconvert_exporter": "python",
   "pygments_lexer": "ipython3",
   "version": "3.8.0"
  }
 },
 "nbformat": 4,
 "nbformat_minor": 4
}