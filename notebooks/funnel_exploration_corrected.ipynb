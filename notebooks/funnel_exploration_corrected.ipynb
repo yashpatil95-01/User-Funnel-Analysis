{
 "cells": [
  {
   "cell_type": "markdown",
   "metadata": {},
   "source": [
    "# User Funnel Analysis - Exploratory Notebook (Corrected)\n",
    "\n",
    "This notebook provides an interactive environment for exploring user funnel data and testing different analysis approaches."
   ]
  },
  {
   "cell_type": "code",
   "execution_count": null,
   "metadata": {},
   "outputs": [],
   "source": [
    "import sys\n",
    "sys.path.append('../src')\n",
    "\n",
    "import pandas as pd\n",
    "import numpy as np\n",
    "import plotly.express as px\n",
    "import plotly.graph_objects as go\n",
    "from analysis.funnel_analyzer import FunnelAnalyzer\n",
    "from analysis.cohort_analysis import CohortAnalyzer\n",
    "\n",
    "# Display settings\n",
    "pd.set_option('display.max_columns', None)\n",
    "pd.set_option('display.width', None)"
   ]
  },
  {
   "cell_type": "markdown",
   "metadata": {},
   "source": [
    "## 1. Load and Explore Data"
   ]
  },
  {
   "cell_type": "code",
   "execution_count": null,
   "metadata": {},
   "outputs": [],
   "source": [
    "# Initialize analyzer\n",
    "analyzer = FunnelAnalyzer()\n",
    "\n",
    "# Load the generated sample data\n",
    "try:\n",
    "    analyzer.load_data('../data/large_sample_funnel_data.csv')\n",
    "    print(\"Data loaded successfully\")\n",
    "except Exception as e:\n",
    "    print(f\"Error loading data: {e}\")\n",
    "    print(\"Run the data generation script first\")\n",
    "\n",
    "# Display basic info\n",
    "if analyzer.data is not None:\n",
    "    print(f\"Data shape: {analyzer.data.shape}\")\n",
    "    analyzer.data.head()"
   ]
  },
  {
   "cell_type": "markdown",
   "metadata": {},
   "source": [
    "## 2. Data Preprocessing"
   ]
  },
  {
   "cell_type": "code",
   "execution_count": null,
   "metadata": {},
   "outputs": [],
   "source": [
    "# Preprocess the data\n",
    "if analyzer.data is not None:\n",
    "    analyzer.preprocess_data()\n",
    "    \n",
    "    # Explore the data structure\n",
    "    print(\"Data Info:\")\n",
    "    print(analyzer.data.info())\n",
    "    print(\"\\nEvent Distribution:\")\n",
    "    print(analyzer.data['event'].value_counts())\n",
    "    print(\"\\nSource Distribution:\")\n",
    "    print(analyzer.data['source'].value_counts())\n",
    "    print(\"\\nDevice Distribution:\")\n",
    "    print(analyzer.data['device'].value_counts())"
   ]
  },
  {
   "cell_type": "markdown",
   "metadata": {},
   "source": [
    "## 3. Funnel Analysis"
   ]
  },
  {
   "cell_type": "code",
   "execution_count": null,
   "metadata": {},
   "outputs": [],
   "source": [
    "# Define funnel steps\n",
    "funnel_steps = ['page_view', 'signup', 'first_purchase', 'repeat_purchase']\n",
    "\n",
    "# Create funnel analysis\n",
    "if analyzer.data is not None:\n",
    "    funnel_data = analyzer.create_funnel_analysis(funnel_steps)\n",
    "    print(\"Funnel Analysis Results:\")\n",
    "    print(funnel_data)"
   ]
  },
  {
   "cell_type": "markdown",
   "metadata": {},
   "source": [
    "## 4. Visualizations"
   ]
  },
  {
   "cell_type": "code",
   "execution_count": null,
   "metadata": {},
   "outputs": [],
   "source": [
    "# Create funnel chart\n",
    "if analyzer.funnel_data is not None:\n",
    "    funnel_chart = analyzer.plot_funnel_chart(\"User Conversion Funnel\")\n",
    "    funnel_chart.show()"
   ]
  },
  {
   "cell_type": "code",
   "execution_count": null,
   "metadata": {},
   "outputs": [],
   "source": [
    "# Create conversion rates chart\n",
    "if analyzer.funnel_data is not None:\n",
    "    conversion_chart = analyzer.plot_conversion_rates()\n",
    "    conversion_chart.show()"
   ]
  },
  {
   "cell_type": "markdown",
   "metadata": {},
   "source": [
    "## 5. Additional Analysis"
   ]
  },
  {
   "cell_type": "code",
   "execution_count": null,
   "metadata": {},
   "outputs": [],
   "source": [
    "# Source performance analysis\n",
    "if analyzer.data is not None:\n",
    "    source_analysis = analyzer.data.groupby(['source', 'event']).size().unstack(fill_value=0)\n",
    "    if 'first_purchase' in source_analysis.columns and 'page_view' in source_analysis.columns:\n",
    "        source_analysis['conversion_rate'] = (source_analysis['first_purchase'] / source_analysis['page_view'] * 100).round(2)\n",
    "    print(\"Source Performance:\")\n",
    "    print(source_analysis)"
   ]
  },
  {
   "cell_type": "code",
   "execution_count": null,
   "metadata": {},
   "outputs": [],
   "source": [
    "# Device performance analysis\n",
    "if analyzer.data is not None:\n",
    "    device_analysis = analyzer.data.groupby(['device', 'event']).size().unstack(fill_value=0)\n",
    "    if 'first_purchase' in device_analysis.columns and 'page_view' in device_analysis.columns:\n",
    "        device_analysis['conversion_rate'] = (device_analysis['first_purchase'] / device_analysis['page_view'] * 100).round(2)\n",
    "    print(\"Device Performance:\")\n",
    "    print(device_analysis)"
   ]
  },
  {
   "cell_type": "markdown",
   "metadata": {},
   "source": [
    "## 6. Cohort Analysis"
   ]
  },
  {
   "cell_type": "code",
   "execution_count": null,
   "metadata": {},
   "outputs": [],
   "source": [
    "# Create cohort analysis\n",
    "if analyzer.data is not None:\n",
    "    cohort_analyzer = CohortAnalyzer(analyzer.data)\n",
    "    cohort_data = cohort_analyzer.create_cohort_analysis()\n",
    "    \n",
    "    if cohort_data:\n",
    "        print(\"Cohort Analysis Results:\")\n",
    "        print(\"Retention Table:\")\n",
    "        print(cohort_data['retention_table'])\n",
    "        \n",
    "        # Plot cohort heatmap\n",
    "        heatmap = cohort_analyzer.plot_cohort_heatmap()\n",
    "        if heatmap:\n",
    "            heatmap.show()\n",
    "        \n",
    "        # Plot retention curves\n",
    "        curves = cohort_analyzer.plot_retention_curves()\n",
    "        if curves:\n",
    "            curves.show()"
   ]
  },
  {
   "cell_type": "markdown",
   "metadata": {},
   "source": [
    "## 7. Export Results"
   ]
  },
  {
   "cell_type": "code",
   "execution_count": null,
   "metadata": {},
   "outputs": [],
   "source": [
    "# Save all visualizations and results\n",
    "if analyzer.funnel_data is not None:\n",
    "    success = analyzer.save_visualizations('../outputs')\n",
    "    if success:\n",
    "        print(\"All results exported successfully!\")\n",
    "    else:\n",
    "        print(\"Error exporting results\")"
   ]
  }
 ],
 "metadata": {
  "kernelspec": {
   "display_name": "Python 3",
   "language": "python",
   "name": "python3"
  },
  "language_info": {
   "codemirror_mode": {
    "name": "ipython",
    "version": 3
   },
   "file_extension": ".py",
   "mimetype": "text/x-python",
   "name": "python",
   "nbconvert_exporter": "python",
   "pygments_lexer": "ipython3",
   "version": "3.8.5"
  }
 },
 "nbformat": 4,
 "nbformat_minor": 4
}